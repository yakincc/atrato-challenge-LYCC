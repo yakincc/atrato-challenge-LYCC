{
 "cells": [
  {
   "cell_type": "markdown",
   "metadata": {},
   "source": [
    "# This Notebook was created to test out the SQL queries for the SQL part of the challenge. \n",
    "\n",
    "**Author: Luis Yakin Carrillo Camacho**\n",
    "\n",
    "---"
   ]
  },
  {
   "cell_type": "markdown",
   "metadata": {},
   "source": [
    "To test out the SQL queries given the database scheme, I first created a example database using sqlite3. This database, named as example.db, will store the sample data."
   ]
  },
  {
   "cell_type": "code",
   "execution_count": 1,
   "metadata": {},
   "outputs": [],
   "source": [
    "import sqlite3\n",
    "\n",
    "# Create a connection to the database.\n",
    "conn = sqlite3.connect('example.db')\n",
    "cursor = conn.cursor()\n",
    "\n",
    "# Create Customers table\n",
    "cursor.execute('''\n",
    "    CREATE TABLE Customers (\n",
    "        customer_id INTEGER PRIMARY KEY,\n",
    "        customer_name CHAR(50) NOT NULL\n",
    "    )\n",
    "''')\n",
    "\n",
    "# Create Orders table\n",
    "cursor.execute('''\n",
    "    CREATE TABLE Orders (\n",
    "        order_id INTEGER PRIMARY KEY,\n",
    "        customer_id INTEGER NOT NULL,\n",
    "        order_date DATE NOT NULL,\n",
    "        FOREIGN KEY (customer_id) REFERENCES Customers(customer_id)\n",
    "    )\n",
    "''')\n",
    "\n",
    "# Create Shipments table\n",
    "cursor.execute('''\n",
    "    CREATE TABLE Shipments (\n",
    "        shipment_id INTEGER PRIMARY KEY,\n",
    "        order_id INTEGER NOT NULL,\n",
    "        shipment_date DATE NOT NULL,\n",
    "        FOREIGN KEY (order_id) REFERENCES Orders(order_id)\n",
    "    )\n",
    "''')\n",
    "\n",
    "# Insert some sample data\n",
    "cursor.execute(\"INSERT INTO Customers (customer_id, customer_name) VALUES (10, 'Luis')\")\n",
    "cursor.execute(\"INSERT INTO Customers (customer_id, customer_name) VALUES (25, 'Emmanuel')\")\n",
    "\n",
    "cursor.execute(\"INSERT INTO Orders (order_id, customer_id, order_date) VALUES (101, 10, '2023-08-01')\")\n",
    "cursor.execute(\"INSERT INTO Orders (order_id, customer_id, order_date) VALUES (102, 10, '2023-08-10')\")\n",
    "cursor.execute(\"INSERT INTO Orders (order_id, customer_id, order_date) VALUES (103, 25, '2023-08-05')\")\n",
    "\n",
    "cursor.execute(\"INSERT INTO Shipments (shipment_id, order_id, shipment_date) VALUES (201, 101, '2023-08-02')\")\n",
    "cursor.execute(\"INSERT INTO Shipments (shipment_id, order_id, shipment_date) VALUES (202, 101, '2023-08-03')\")\n",
    "cursor.execute(\"INSERT INTO Shipments (shipment_id, order_id, shipment_date) VALUES (203, 102, '2023-08-11')\")\n",
    "\n",
    "# Commit the changes and close the connection\n",
    "conn.commit()\n",
    "conn.close()\n"
   ]
  },
  {
   "cell_type": "markdown",
   "metadata": {},
   "source": [
    "Once the database was created, and to verify it was created correctly, I tried to visualize each of the tables using pandas read_sql function."
   ]
  },
  {
   "cell_type": "code",
   "execution_count": 2,
   "metadata": {},
   "outputs": [
    {
     "name": "stdout",
     "output_type": "stream",
     "text": [
      "Customers Table:\n",
      "   customer_id customer_name\n",
      "0           10          Luis\n",
      "1           25      Emmanuel\n",
      "\n",
      "Orders Table:\n",
      "   order_id  customer_id  order_date\n",
      "0       101           10  2023-08-01\n",
      "1       102           10  2023-08-10\n",
      "2       103           25  2023-08-05\n",
      "\n",
      "Shipments Table:\n",
      "   shipment_id  order_id shipment_date\n",
      "0          201       101    2023-08-02\n",
      "1          202       101    2023-08-03\n",
      "2          203       102    2023-08-11\n"
     ]
    }
   ],
   "source": [
    "import pandas as pd\n",
    "\n",
    "# Create a connection to the database\n",
    "conn = sqlite3.connect('example.db')\n",
    "\n",
    "# Read Customers table into a DataFrame\n",
    "customers_df = pd.read_sql(\"SELECT * FROM Customers\", conn)\n",
    "\n",
    "# Read Orders table into a DataFrame\n",
    "orders_df = pd.read_sql(\"SELECT * FROM Orders\", conn)\n",
    "\n",
    "# Read Shipments table into a DataFrame\n",
    "shipments_df = pd.read_sql(\"SELECT * FROM Shipments\", conn)\n",
    "\n",
    "# Close the connection\n",
    "conn.close()\n",
    "\n",
    "# Print the DataFrames\n",
    "print(\"Customers Table:\")\n",
    "print(customers_df)\n",
    "\n",
    "print(\"\\nOrders Table:\")\n",
    "print(orders_df)\n",
    "\n",
    "print(\"\\nShipments Table:\")\n",
    "print(shipments_df)\n"
   ]
  },
  {
   "cell_type": "markdown",
   "metadata": {},
   "source": [
    "Once the database was correctly created, the following cell will make one by one the queries from the challenge, and print the results of each one."
   ]
  },
  {
   "cell_type": "code",
   "execution_count": 3,
   "metadata": {},
   "outputs": [
    {
     "name": "stdout",
     "output_type": "stream",
     "text": [
      "Query 1:\n",
      "   order_id  customer_id  order_date  customer_id customer_name\n",
      "0       103           25  2023-08-05           25      Emmanuel\n",
      "\n",
      "Query 2:\n",
      "   order_count\n",
      "0            1\n",
      "\n",
      "Query 3:\n",
      "   order_id  customer_id  order_date  customer_id customer_name\n",
      "0       102           10  2023-08-10           10          Luis\n",
      "1       101           10  2023-08-01           10          Luis\n",
      "\n",
      "Query 4:\n",
      "   shipment_count\n",
      "0               3\n"
     ]
    }
   ],
   "source": [
    "# Create a connection to the database\n",
    "conn = sqlite3.connect('example.db')\n",
    "\n",
    "# Query 1: All the orders of the customer with customer_name = 'Emmanuel'\n",
    "query1 = '''\n",
    "    SELECT *\n",
    "    FROM Orders\n",
    "    INNER JOIN Customers ON Orders.customer_id = Customers.customer_id\n",
    "    WHERE Customers.customer_name = 'Emmanuel';\n",
    "'''\n",
    "result1_df = pd.read_sql(query1, conn)\n",
    "\n",
    "print(\"Query 1:\")\n",
    "print(result1_df)\n",
    "\n",
    "# Query 2: How many orders have the customer with customer_id = 25\n",
    "query2 = '''\n",
    "    SELECT COUNT(*) AS order_count\n",
    "    FROM Orders\n",
    "    WHERE customer_id = 25;\n",
    "'''\n",
    "result2_df = pd.read_sql(query2, conn)\n",
    "\n",
    "print(\"\\nQuery 2:\")\n",
    "print(result2_df)\n",
    "\n",
    "# Query 3: Order by order_date descending, all the orders that have the customer called 'Luis'\n",
    "query3 = '''\n",
    "    SELECT *\n",
    "    FROM Orders\n",
    "    INNER JOIN Customers ON Orders.customer_id = Customers.customer_id\n",
    "    WHERE Customers.customer_name = 'Luis'\n",
    "    ORDER BY Orders.order_date DESC;\n",
    "'''\n",
    "result3_df = pd.read_sql(query3, conn)\n",
    "\n",
    "print(\"\\nQuery 3:\")\n",
    "print(result3_df)\n",
    "\n",
    "# Query 4: How many shipments have by order the customer with customer_id = 10\n",
    "query4 = '''\n",
    "    SELECT COUNT(Shipments.shipment_id) AS shipment_count\n",
    "    FROM Shipments\n",
    "    INNER JOIN Orders ON Shipments.order_id = Orders.order_id\n",
    "    WHERE Orders.customer_id = 10;\n",
    "'''\n",
    "result4_df = pd.read_sql(query4, conn)\n",
    "\n",
    "print(\"\\nQuery 4:\")\n",
    "print(result4_df)\n",
    "\n",
    "# Close the connection\n",
    "conn.close()\n"
   ]
  }
 ],
 "metadata": {
  "kernelspec": {
   "display_name": "Python 3",
   "language": "python",
   "name": "python3"
  },
  "language_info": {
   "codemirror_mode": {
    "name": "ipython",
    "version": 3
   },
   "file_extension": ".py",
   "mimetype": "text/x-python",
   "name": "python",
   "nbconvert_exporter": "python",
   "pygments_lexer": "ipython3",
   "version": "3.11.4"
  },
  "orig_nbformat": 4
 },
 "nbformat": 4,
 "nbformat_minor": 2
}
